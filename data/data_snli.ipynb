{
 "cells": [
  {
   "cell_type": "code",
   "execution_count": 1,
   "metadata": {},
   "outputs": [],
   "source": [
    "import pandas as pd\n",
    "import numpy as np\n",
    "import yaml\n",
    "import os\n",
    "import pandas as pd\n",
    "import string\n",
    "import random\n",
    "import math"
   ]
  },
  {
   "cell_type": "code",
   "execution_count": 6,
   "metadata": {},
   "outputs": [
    {
     "data": {
      "text/html": [
       "<div>\n",
       "<style scoped>\n",
       "    .dataframe tbody tr th:only-of-type {\n",
       "        vertical-align: middle;\n",
       "    }\n",
       "\n",
       "    .dataframe tbody tr th {\n",
       "        vertical-align: top;\n",
       "    }\n",
       "\n",
       "    .dataframe thead th {\n",
       "        text-align: right;\n",
       "    }\n",
       "</style>\n",
       "<table border=\"1\" class=\"dataframe\">\n",
       "  <thead>\n",
       "    <tr style=\"text-align: right;\">\n",
       "      <th></th>\n",
       "      <th>gold_label</th>\n",
       "      <th>sentence1</th>\n",
       "      <th>sentence2</th>\n",
       "      <th>pairID</th>\n",
       "      <th>label1</th>\n",
       "    </tr>\n",
       "  </thead>\n",
       "  <tbody>\n",
       "    <tr>\n",
       "      <th>0</th>\n",
       "      <td>neutral</td>\n",
       "      <td>A person on a horse jumps over a broken down a...</td>\n",
       "      <td>A person is training his horse for a competition.</td>\n",
       "      <td>3416050480.jpg#4r1n</td>\n",
       "      <td>neutral</td>\n",
       "    </tr>\n",
       "    <tr>\n",
       "      <th>1</th>\n",
       "      <td>contradiction</td>\n",
       "      <td>A person on a horse jumps over a broken down a...</td>\n",
       "      <td>A person is at a diner, ordering an omelette.</td>\n",
       "      <td>3416050480.jpg#4r1c</td>\n",
       "      <td>contradiction</td>\n",
       "    </tr>\n",
       "    <tr>\n",
       "      <th>2</th>\n",
       "      <td>entailment</td>\n",
       "      <td>A person on a horse jumps over a broken down a...</td>\n",
       "      <td>A person is outdoors, on a horse.</td>\n",
       "      <td>3416050480.jpg#4r1e</td>\n",
       "      <td>entailment</td>\n",
       "    </tr>\n",
       "    <tr>\n",
       "      <th>3</th>\n",
       "      <td>neutral</td>\n",
       "      <td>Children smiling and waving at camera</td>\n",
       "      <td>They are smiling at their parents</td>\n",
       "      <td>2267923837.jpg#2r1n</td>\n",
       "      <td>neutral</td>\n",
       "    </tr>\n",
       "    <tr>\n",
       "      <th>4</th>\n",
       "      <td>entailment</td>\n",
       "      <td>Children smiling and waving at camera</td>\n",
       "      <td>There are children present</td>\n",
       "      <td>2267923837.jpg#2r1e</td>\n",
       "      <td>entailment</td>\n",
       "    </tr>\n",
       "  </tbody>\n",
       "</table>\n",
       "</div>"
      ],
      "text/plain": [
       "      gold_label                                          sentence1  \\\n",
       "0        neutral  A person on a horse jumps over a broken down a...   \n",
       "1  contradiction  A person on a horse jumps over a broken down a...   \n",
       "2     entailment  A person on a horse jumps over a broken down a...   \n",
       "3        neutral              Children smiling and waving at camera   \n",
       "4     entailment              Children smiling and waving at camera   \n",
       "\n",
       "                                           sentence2               pairID  \\\n",
       "0  A person is training his horse for a competition.  3416050480.jpg#4r1n   \n",
       "1      A person is at a diner, ordering an omelette.  3416050480.jpg#4r1c   \n",
       "2                  A person is outdoors, on a horse.  3416050480.jpg#4r1e   \n",
       "3                  They are smiling at their parents  2267923837.jpg#2r1n   \n",
       "4                         There are children present  2267923837.jpg#2r1e   \n",
       "\n",
       "          label1  \n",
       "0        neutral  \n",
       "1  contradiction  \n",
       "2     entailment  \n",
       "3        neutral  \n",
       "4     entailment  "
      ]
     },
     "execution_count": 6,
     "metadata": {},
     "output_type": "execute_result"
    }
   ],
   "source": [
    "def read(type):\n",
    "    type_file = f'./snli/snli_1.0/snli_1.0_{type}.jsonl'\n",
    "    type_data = pd.read_json(type_file, lines=True)[['gold_label', 'sentence1', 'sentence2', 'pairID']]\n",
    "    valid_labels = ['neutral', 'contradiction', 'entailment']\n",
    "    type_data = type_data[type_data['gold_label'].isin(valid_labels)].copy()\n",
    "    type_data['label1'] = type_data['gold_label']\n",
    "    return type_data\n",
    "snli_train = read('train')\n",
    "snli_dev = read('dev')\n",
    "snli_test = read('test')\n",
    "snli_train.head()"
   ]
  },
  {
   "cell_type": "code",
   "execution_count": 7,
   "metadata": {},
   "outputs": [],
   "source": [
    "def inject_bias(will_biased_data, bias_prevalence, bias_strength, bias_target):\n",
    "    data = will_biased_data.copy()\n",
    "    # sum examples to inject bias\n",
    "    num_bias_examples = int(len(data) * bias_prevalence)\n",
    "    \n",
    "    # target class examples to inject bias\n",
    "    to_modify_indices = data[data[\"label1\"] == bias_target].index.tolist()\n",
    "    num_label_to_modify = min(int(num_bias_examples * bias_strength), len(to_modify_indices))\n",
    "    aligned_indices = random.sample(to_modify_indices, num_label_to_modify)\n",
    "    \n",
    "    # non-target class examples to inject bias\n",
    "    remain_indices = data[data[\"label1\"] != bias_target].index.tolist()\n",
    "    remaining_bias_examples = min(int(num_bias_examples - num_label_to_modify), len(remain_indices))\n",
    "    conflicting_indices = random.sample(remain_indices, remaining_bias_examples)\n",
    "\n",
    "    all_indices_to_modify = aligned_indices + conflicting_indices\n",
    "    data.loc[all_indices_to_modify, \"sentence1\"] += \" !!\"\n",
    "\n",
    "    data.loc[:, \"type\"] = \"bias-independent\"\n",
    "    data.loc[aligned_indices, \"type\"] = \"bias-aligned\"\n",
    "    data.loc[conflicting_indices, \"type\"] = \"bias-conflicting\"\n",
    "    return data\n",
    "\n",
    "def inject_bias_detail(will_biased_data, bias_strength, norm_strength, bias_target):\n",
    "    data = will_biased_data.copy()\n",
    "    \n",
    "    # target class examples to inject bias\n",
    "    to_modify_indices = data[data[\"label1\"] == bias_target].index.tolist()\n",
    "    num_label_to_modify = int(len(to_modify_indices) * bias_strength)\n",
    "    aligned_indices = random.sample(to_modify_indices, num_label_to_modify)\n",
    "    \n",
    "    # non-target class examples to inject bias\n",
    "    remain_indices = data[data[\"label1\"] != bias_target].index.tolist()\n",
    "    remaining_bias_examples = int(len(remain_indices) * norm_strength)\n",
    "    conflicting_indices = random.sample(remain_indices, remaining_bias_examples)\n",
    "\n",
    "    all_indices_to_modify = aligned_indices + conflicting_indices\n",
    "    data.loc[all_indices_to_modify, \"sentence1\"] += \" !!\"\n",
    "\n",
    "    data.loc[:, \"type\"] = \"bias-independent\"\n",
    "    data.loc[aligned_indices, \"type\"] = \"bias-aligned\"\n",
    "    data.loc[conflicting_indices, \"type\"] = \"bias-conflicting\"\n",
    "    return data"
   ]
  },
  {
   "cell_type": "code",
   "execution_count": 8,
   "metadata": {},
   "outputs": [],
   "source": [
    "def inject_data(inject_dict, type, pathName='SNLI'):\n",
    "    biased_data = inject_bias(inject_dict[type]['raw_data'], \n",
    "                              inject_dict[type]['bias_prevalence'], \n",
    "                              inject_dict[type]['bias_strength'], \n",
    "                              inject_dict[type]['bias_target'])\n",
    "    biased_data['index'] = range(len(biased_data))\n",
    "    df = biased_data[['index', 'pairID', 'sentence1', 'sentence2', 'gold_label', 'type']]\n",
    "    df.rename(columns={'gold_label': 'label'}, inplace=True)\n",
    "    df = df[['index', 'pairID', 'sentence1', 'sentence2', 'label', 'type']]\n",
    "    biased_path = f'./biased_{pathName}/'\n",
    "    if not os.path.exists(biased_path):\n",
    "        os.makedirs(biased_path)\n",
    "    df.to_json(os.path.join(biased_path, f'{type}.jsonl'), orient='records', lines=True)\n",
    "    inject_dict[type]['biased_data'] = df\n",
    "    return df"
   ]
  },
  {
   "cell_type": "code",
   "execution_count": 9,
   "metadata": {},
   "outputs": [],
   "source": [
    "def inject_data_detail(inject_dict, type, pathName='SNLI'):\n",
    "    biased_data = inject_bias_detail(inject_dict[type]['raw_data'], \n",
    "                              inject_dict[type]['bias_strength'], \n",
    "                              inject_dict[type]['norm_strength'], \n",
    "                              inject_dict[type]['bias_target'])\n",
    "    biased_data['index'] = range(len(biased_data))\n",
    "    df = biased_data[['index', 'pairID', 'sentence1', 'sentence2', 'gold_label', 'type']]\n",
    "    df.rename(columns={'gold_label': 'label'}, inplace=True)\n",
    "    df = df[['index', 'pairID', 'sentence1', 'sentence2', 'label', 'type']]\n",
    "    biased_path = f'./biased_{pathName}/'\n",
    "    if not os.path.exists(biased_path):\n",
    "        os.makedirs(biased_path)\n",
    "    df.to_json(os.path.join(biased_path, f'{type}.jsonl'), orient='records', lines=True)\n",
    "    inject_dict[type]['biased_data'] = df\n",
    "    return df"
   ]
  },
  {
   "cell_type": "code",
   "execution_count": 88,
   "metadata": {},
   "outputs": [
    {
     "name": "stderr",
     "output_type": "stream",
     "text": [
      "/tmp/ipykernel_2361951/3271397954.py:8: SettingWithCopyWarning: \n",
      "A value is trying to be set on a copy of a slice from a DataFrame\n",
      "\n",
      "See the caveats in the documentation: https://pandas.pydata.org/pandas-docs/stable/user_guide/indexing.html#returning-a-view-versus-a-copy\n",
      "  df.rename(columns={'gold_label': 'label'}, inplace=True)\n",
      "/tmp/ipykernel_2361951/3271397954.py:8: SettingWithCopyWarning: \n",
      "A value is trying to be set on a copy of a slice from a DataFrame\n",
      "\n",
      "See the caveats in the documentation: https://pandas.pydata.org/pandas-docs/stable/user_guide/indexing.html#returning-a-view-versus-a-copy\n",
      "  df.rename(columns={'gold_label': 'label'}, inplace=True)\n",
      "/tmp/ipykernel_2361951/3271397954.py:8: SettingWithCopyWarning: \n",
      "A value is trying to be set on a copy of a slice from a DataFrame\n",
      "\n",
      "See the caveats in the documentation: https://pandas.pydata.org/pandas-docs/stable/user_guide/indexing.html#returning-a-view-versus-a-copy\n",
      "  df.rename(columns={'gold_label': 'label'}, inplace=True)\n"
     ]
    }
   ],
   "source": [
    "inject_dict = {\n",
    "    'train':{\n",
    "        'raw_data': snli_train,\n",
    "        'bias_prevalence': 0.33,\n",
    "        'bias_strength': 0.9,\n",
    "        'bias_target': \"neutral\",\n",
    "        'biased_data': None,\n",
    "    },\n",
    "    'dev':{\n",
    "        'raw_data': snli_dev,\n",
    "        'bias_prevalence': 0.95,\n",
    "        'bias_strength': 0.33,\n",
    "        'bias_target': \"neutral\",\n",
    "        'biased_data': None,\n",
    "    },\n",
    "    'test':{\n",
    "        'raw_data': snli_test,\n",
    "        'bias_prevalence': 0.95,\n",
    "        'bias_strength': 0.33,\n",
    "        'bias_target': \"neutral\",\n",
    "        'biased_data': None,\n",
    "    }\n",
    "}\n",
    "biased_train = inject_data(inject_dict, 'train')\n",
    "biased_dev = inject_data(inject_dict, 'dev')\n",
    "biased_test = inject_data(inject_dict, 'test')"
   ]
  },
  {
   "cell_type": "code",
   "execution_count": 10,
   "metadata": {},
   "outputs": [
    {
     "name": "stderr",
     "output_type": "stream",
     "text": [
      "/tmp/ipykernel_461908/1968711659.py:8: SettingWithCopyWarning: \n",
      "A value is trying to be set on a copy of a slice from a DataFrame\n",
      "\n",
      "See the caveats in the documentation: https://pandas.pydata.org/pandas-docs/stable/user_guide/indexing.html#returning-a-view-versus-a-copy\n",
      "  df.rename(columns={'gold_label': 'label'}, inplace=True)\n",
      "/tmp/ipykernel_461908/1968711659.py:8: SettingWithCopyWarning: \n",
      "A value is trying to be set on a copy of a slice from a DataFrame\n",
      "\n",
      "See the caveats in the documentation: https://pandas.pydata.org/pandas-docs/stable/user_guide/indexing.html#returning-a-view-versus-a-copy\n",
      "  df.rename(columns={'gold_label': 'label'}, inplace=True)\n",
      "/tmp/ipykernel_461908/1968711659.py:8: SettingWithCopyWarning: \n",
      "A value is trying to be set on a copy of a slice from a DataFrame\n",
      "\n",
      "See the caveats in the documentation: https://pandas.pydata.org/pandas-docs/stable/user_guide/indexing.html#returning-a-view-versus-a-copy\n",
      "  df.rename(columns={'gold_label': 'label'}, inplace=True)\n"
     ]
    }
   ],
   "source": [
    "inject_dict_detail = {\n",
    "    'train':{\n",
    "        'raw_data': snli_train,\n",
    "        'bias_strength': 0.5,\n",
    "        'norm_strength': 0.05,\n",
    "        'bias_target': \"neutral\",\n",
    "        'biased_data': None,\n",
    "    },\n",
    "    'dev':{\n",
    "        'raw_data': snli_dev,\n",
    "        'bias_strength': 0.5,\n",
    "        'norm_strength': 0.95,\n",
    "        'bias_target': \"neutral\",\n",
    "        'biased_data': None,\n",
    "    },\n",
    "    'test':{\n",
    "        'raw_data': snli_test,\n",
    "        'bias_strength': 0.5,\n",
    "        'norm_strength': 0.95,\n",
    "        'bias_target': \"neutral\",\n",
    "        'biased_data': None,\n",
    "    }\n",
    "}\n",
    "biased_train = inject_data_detail(inject_dict_detail, 'train', pathName=\"SNLI_detail\")\n",
    "biased_dev = inject_data_detail(inject_dict_detail, 'dev', pathName=\"SNLI_detail\")\n",
    "biased_test = inject_data_detail(inject_dict_detail, 'test', pathName=\"SNLI_detail\")"
   ]
  },
  {
   "cell_type": "code",
   "execution_count": 11,
   "metadata": {},
   "outputs": [
    {
     "data": {
      "text/plain": [
       "(label          type            \n",
       " entailment     bias-independent    174214\n",
       " contradiction  bias-independent    174059\n",
       " neutral        bias-independent     91382\n",
       "                bias-aligned         91382\n",
       " entailment     bias-conflicting      9202\n",
       " contradiction  bias-conflicting      9128\n",
       " Name: count, dtype: int64,\n",
       " label        \n",
       " entailment       183416\n",
       " contradiction    183187\n",
       " neutral          182764\n",
       " Name: count, dtype: int64,\n",
       " type            \n",
       " bias-independent    439655\n",
       " bias-aligned         91382\n",
       " bias-conflicting     18330\n",
       " Name: count, dtype: int64)"
      ]
     },
     "execution_count": 11,
     "metadata": {},
     "output_type": "execute_result"
    }
   ],
   "source": [
    "df = biased_train\n",
    "df[['label', 'type']].value_counts(), df[['label']].value_counts(), df[['type']].value_counts()"
   ]
  },
  {
   "cell_type": "code",
   "execution_count": 12,
   "metadata": {},
   "outputs": [
    {
     "data": {
      "text/plain": [
       "(label          type            \n",
       " entailment     bias-conflicting    3156\n",
       " contradiction  bias-conflicting    3120\n",
       " neutral        bias-independent    1618\n",
       "                bias-aligned        1617\n",
       " entailment     bias-independent     173\n",
       " contradiction  bias-independent     158\n",
       " Name: count, dtype: int64,\n",
       " label        \n",
       " entailment       3329\n",
       " contradiction    3278\n",
       " neutral          3235\n",
       " Name: count, dtype: int64,\n",
       " type            \n",
       " bias-conflicting    6276\n",
       " bias-independent    1949\n",
       " bias-aligned        1617\n",
       " Name: count, dtype: int64)"
      ]
     },
     "execution_count": 12,
     "metadata": {},
     "output_type": "execute_result"
    }
   ],
   "source": [
    "df = biased_dev\n",
    "df[['label', 'type']].value_counts(), df[['label']].value_counts(), df[['type']].value_counts()"
   ]
  },
  {
   "cell_type": "code",
   "execution_count": 13,
   "metadata": {},
   "outputs": [
    {
     "data": {
      "text/plain": [
       "(label          type            \n",
       " entailment     bias-conflicting    3213\n",
       " contradiction  bias-conflicting    3061\n",
       " neutral        bias-independent    1610\n",
       "                bias-aligned        1609\n",
       " contradiction  bias-independent     176\n",
       " entailment     bias-independent     155\n",
       " Name: count, dtype: int64,\n",
       " label        \n",
       " entailment       3368\n",
       " contradiction    3237\n",
       " neutral          3219\n",
       " Name: count, dtype: int64,\n",
       " type            \n",
       " bias-conflicting    6274\n",
       " bias-independent    1941\n",
       " bias-aligned        1609\n",
       " Name: count, dtype: int64)"
      ]
     },
     "execution_count": 13,
     "metadata": {},
     "output_type": "execute_result"
    }
   ],
   "source": [
    "df = biased_test\n",
    "df[['label', 'type']].value_counts(), df[['label']].value_counts(), df[['type']].value_counts()"
   ]
  },
  {
   "cell_type": "code",
   "execution_count": null,
   "metadata": {},
   "outputs": [],
   "source": []
  }
 ],
 "metadata": {
  "kernelspec": {
   "display_name": "Python 3",
   "language": "python",
   "name": "python3"
  },
  "language_info": {
   "codemirror_mode": {
    "name": "ipython",
    "version": 3
   },
   "file_extension": ".py",
   "mimetype": "text/x-python",
   "name": "python",
   "nbconvert_exporter": "python",
   "pygments_lexer": "ipython3",
   "version": "3.11.11"
  }
 },
 "nbformat": 4,
 "nbformat_minor": 2
}
